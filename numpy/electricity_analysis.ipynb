import numpy as np
import matplotlib.pyplot as plt
import os

# Create output folder if it doesn't exist
os.makedirs("plots", exist_ok=True)

# Simulate electricity usage data: 7 days, 24 hours per day
np.random.seed(42)
data = np.random.normal(loc=400, scale=100, size=(7, 24))  # 7 days × 24 hours
# Ensure all values are non-negative
data = np.clip(data, 0, None)
# Calculate daily average usage
daily_avg = data.mean(axis=1)
# Find peak usage hour per day
peak_hours = np.argmax(data, axis=1)
# Calculate standard deviation (fluctuation) per day
daily_std = data.std(axis=1)
# Print analysis for each day
for day in range(7):
    print(f"Day {day + 1}: Avg = {daily_avg[day]:.1f}W, Peak Hour = {peak_hours[day]}, Fluctuation = {daily_std[day]:.1f}W")
# Plot usage for the first day
plt.figure(figsize=(10, 4))
plt.plot(data[0], marker='o', color='blue', linewidth=2)
plt.title('Electricity Usage Pattern - Day 1')
plt.xlabel('Hour of Day')
plt.ylabel('Power Usage (Watts)')
plt.grid(True)
plt.tight_layout()
plt.savefig("plots/daily_consumption.png")
plt.show()
